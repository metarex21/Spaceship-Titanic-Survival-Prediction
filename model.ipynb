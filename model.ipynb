{
 "cells": [
  {
   "cell_type": "markdown",
   "id": "284c8020",
   "metadata": {
    "papermill": {
     "duration": 0.012228,
     "end_time": "2023-07-20T21:48:47.004032",
     "exception": false,
     "start_time": "2023-07-20T21:48:46.991804",
     "status": "completed"
    },
    "tags": []
   },
   "source": [
    "# Spaceship Titanic Competiton"
   ]
  },
  {
   "cell_type": "markdown",
   "id": "595291eb",
   "metadata": {
    "papermill": {
     "duration": 0.009016,
     "end_time": "2023-07-20T21:48:47.022986",
     "exception": false,
     "start_time": "2023-07-20T21:48:47.013970",
     "status": "completed"
    },
    "tags": []
   },
   "source": [
    "## 1.Imports"
   ]
  },
  {
   "cell_type": "code",
   "execution_count": 1,
   "id": "cffb2428",
   "metadata": {
    "execution": {
     "iopub.execute_input": "2023-07-20T21:48:47.043976Z",
     "iopub.status.busy": "2023-07-20T21:48:47.043576Z",
     "iopub.status.idle": "2023-07-20T21:48:58.056272Z",
     "shell.execute_reply": "2023-07-20T21:48:58.054636Z"
    },
    "papermill": {
     "duration": 11.027048,
     "end_time": "2023-07-20T21:48:58.059210",
     "exception": false,
     "start_time": "2023-07-20T21:48:47.032162",
     "status": "completed"
    },
    "tags": []
   },
   "outputs": [
    {
     "name": "stderr",
     "output_type": "stream",
     "text": [
      "/opt/conda/lib/python3.10/site-packages/scipy/__init__.py:146: UserWarning: A NumPy version >=1.16.5 and <1.23.0 is required for this version of SciPy (detected version 1.23.5\n",
      "  warnings.warn(f\"A NumPy version >={np_minversion} and <{np_maxversion}\"\n",
      "/opt/conda/lib/python3.10/site-packages/tensorflow_io/python/ops/__init__.py:98: UserWarning: unable to load libtensorflow_io_plugins.so: unable to open file: libtensorflow_io_plugins.so, from paths: ['/opt/conda/lib/python3.10/site-packages/tensorflow_io/python/ops/libtensorflow_io_plugins.so']\n",
      "caused by: ['/opt/conda/lib/python3.10/site-packages/tensorflow_io/python/ops/libtensorflow_io_plugins.so: undefined symbol: _ZN3tsl6StatusC1EN10tensorflow5error4CodeESt17basic_string_viewIcSt11char_traitsIcEENS_14SourceLocationE']\n",
      "  warnings.warn(f\"unable to load libtensorflow_io_plugins.so: {e}\")\n",
      "/opt/conda/lib/python3.10/site-packages/tensorflow_io/python/ops/__init__.py:104: UserWarning: file system plugins are not loaded: unable to open file: libtensorflow_io.so, from paths: ['/opt/conda/lib/python3.10/site-packages/tensorflow_io/python/ops/libtensorflow_io.so']\n",
      "caused by: ['/opt/conda/lib/python3.10/site-packages/tensorflow_io/python/ops/libtensorflow_io.so: undefined symbol: _ZTVN10tensorflow13GcsFileSystemE']\n",
      "  warnings.warn(f\"file system plugins are not loaded: {e}\")\n"
     ]
    }
   ],
   "source": [
    "import tensorflow as tf\n",
    "import tensorflow_decision_forests as tfdf\n",
    "import pandas as pd\n",
    "import numpy as np\n",
    "import seaborn as sns\n",
    "import matplotlib.pyplot as plt\n",
    "from sklearn.model_selection import train_test_split\n",
    "from sklearn.metrics import accuracy_score, classification_report, confusion_matrix\n",
    "import warnings\n",
    "warnings.filterwarnings(\"ignore\")"
   ]
  },
  {
   "cell_type": "markdown",
   "id": "548a1f95",
   "metadata": {
    "papermill": {
     "duration": 0.009133,
     "end_time": "2023-07-20T21:48:58.078091",
     "exception": false,
     "start_time": "2023-07-20T21:48:58.068958",
     "status": "completed"
    },
    "tags": []
   },
   "source": [
    "## 2.Loading the Dataset"
   ]
  },
  {
   "cell_type": "code",
   "execution_count": 2,
   "id": "de28592f",
   "metadata": {
    "execution": {
     "iopub.execute_input": "2023-07-20T21:48:58.099396Z",
     "iopub.status.busy": "2023-07-20T21:48:58.098229Z",
     "iopub.status.idle": "2023-07-20T21:48:58.187509Z",
     "shell.execute_reply": "2023-07-20T21:48:58.186285Z"
    },
    "papermill": {
     "duration": 0.103167,
     "end_time": "2023-07-20T21:48:58.190574",
     "exception": false,
     "start_time": "2023-07-20T21:48:58.087407",
     "status": "completed"
    },
    "tags": []
   },
   "outputs": [],
   "source": [
    "# Load a dataset into a Pandas Dataframe\n",
    "train_data = pd.read_csv('./dataset/train.csv')\n",
    "test_data = pd.read_csv(\"./dataset/test.csv\")"
   ]
  },
  {
   "cell_type": "code",
   "execution_count": 3,
   "id": "44baea6a",
   "metadata": {
    "execution": {
     "iopub.execute_input": "2023-07-20T21:48:58.211101Z",
     "iopub.status.busy": "2023-07-20T21:48:58.210663Z",
     "iopub.status.idle": "2023-07-20T21:48:58.216640Z",
     "shell.execute_reply": "2023-07-20T21:48:58.215440Z"
    },
    "papermill": {
     "duration": 0.021215,
     "end_time": "2023-07-20T21:48:58.221171",
     "exception": false,
     "start_time": "2023-07-20T21:48:58.199956",
     "status": "completed"
    },
    "tags": []
   },
   "outputs": [
    {
     "name": "stdout",
     "output_type": "stream",
     "text": [
      "Full train dataset shape is (8693, 14)\n",
      "Full test dataset shape is (4277, 13)\n"
     ]
    }
   ],
   "source": [
    "print(\"Full train dataset shape is {}\".format(train_data.shape))\n",
    "print(\"Full test dataset shape is {}\".format(test_data.shape))"
   ]
  },
  {
   "cell_type": "markdown",
   "id": "46942acc",
   "metadata": {
    "papermill": {
     "duration": 0.009157,
     "end_time": "2023-07-20T21:48:58.239587",
     "exception": false,
     "start_time": "2023-07-20T21:48:58.230430",
     "status": "completed"
    },
    "tags": []
   },
   "source": [
    "## 3.Basic EDA"
   ]
  },
  {
   "cell_type": "code",
   "execution_count": 4,
   "id": "3596dbd3",
   "metadata": {
    "execution": {
     "iopub.execute_input": "2023-07-20T21:48:58.260721Z",
     "iopub.status.busy": "2023-07-20T21:48:58.259859Z",
     "iopub.status.idle": "2023-07-20T21:48:58.291169Z",
     "shell.execute_reply": "2023-07-20T21:48:58.290273Z"
    },
    "papermill": {
     "duration": 0.0448,
     "end_time": "2023-07-20T21:48:58.293596",
     "exception": false,
     "start_time": "2023-07-20T21:48:58.248796",
     "status": "completed"
    },
    "tags": []
   },
   "outputs": [
    {
     "data": {
      "text/html": [
       "<div>\n",
       "<style scoped>\n",
       "    .dataframe tbody tr th:only-of-type {\n",
       "        vertical-align: middle;\n",
       "    }\n",
       "\n",
       "    .dataframe tbody tr th {\n",
       "        vertical-align: top;\n",
       "    }\n",
       "\n",
       "    .dataframe thead th {\n",
       "        text-align: right;\n",
       "    }\n",
       "</style>\n",
       "<table border=\"1\" class=\"dataframe\">\n",
       "  <thead>\n",
       "    <tr style=\"text-align: right;\">\n",
       "      <th></th>\n",
       "      <th>PassengerId</th>\n",
       "      <th>HomePlanet</th>\n",
       "      <th>CryoSleep</th>\n",
       "      <th>Cabin</th>\n",
       "      <th>Destination</th>\n",
       "      <th>Age</th>\n",
       "      <th>VIP</th>\n",
       "      <th>RoomService</th>\n",
       "      <th>FoodCourt</th>\n",
       "      <th>ShoppingMall</th>\n",
       "      <th>Spa</th>\n",
       "      <th>VRDeck</th>\n",
       "      <th>Name</th>\n",
       "      <th>Transported</th>\n",
       "    </tr>\n",
       "  </thead>\n",
       "  <tbody>\n",
       "    <tr>\n",
       "      <th>0</th>\n",
       "      <td>0001_01</td>\n",
       "      <td>Europa</td>\n",
       "      <td>False</td>\n",
       "      <td>B/0/P</td>\n",
       "      <td>TRAPPIST-1e</td>\n",
       "      <td>39.0</td>\n",
       "      <td>False</td>\n",
       "      <td>0.0</td>\n",
       "      <td>0.0</td>\n",
       "      <td>0.0</td>\n",
       "      <td>0.0</td>\n",
       "      <td>0.0</td>\n",
       "      <td>Maham Ofracculy</td>\n",
       "      <td>False</td>\n",
       "    </tr>\n",
       "    <tr>\n",
       "      <th>1</th>\n",
       "      <td>0002_01</td>\n",
       "      <td>Earth</td>\n",
       "      <td>False</td>\n",
       "      <td>F/0/S</td>\n",
       "      <td>TRAPPIST-1e</td>\n",
       "      <td>24.0</td>\n",
       "      <td>False</td>\n",
       "      <td>109.0</td>\n",
       "      <td>9.0</td>\n",
       "      <td>25.0</td>\n",
       "      <td>549.0</td>\n",
       "      <td>44.0</td>\n",
       "      <td>Juanna Vines</td>\n",
       "      <td>True</td>\n",
       "    </tr>\n",
       "    <tr>\n",
       "      <th>2</th>\n",
       "      <td>0003_01</td>\n",
       "      <td>Europa</td>\n",
       "      <td>False</td>\n",
       "      <td>A/0/S</td>\n",
       "      <td>TRAPPIST-1e</td>\n",
       "      <td>58.0</td>\n",
       "      <td>True</td>\n",
       "      <td>43.0</td>\n",
       "      <td>3576.0</td>\n",
       "      <td>0.0</td>\n",
       "      <td>6715.0</td>\n",
       "      <td>49.0</td>\n",
       "      <td>Altark Susent</td>\n",
       "      <td>False</td>\n",
       "    </tr>\n",
       "    <tr>\n",
       "      <th>3</th>\n",
       "      <td>0003_02</td>\n",
       "      <td>Europa</td>\n",
       "      <td>False</td>\n",
       "      <td>A/0/S</td>\n",
       "      <td>TRAPPIST-1e</td>\n",
       "      <td>33.0</td>\n",
       "      <td>False</td>\n",
       "      <td>0.0</td>\n",
       "      <td>1283.0</td>\n",
       "      <td>371.0</td>\n",
       "      <td>3329.0</td>\n",
       "      <td>193.0</td>\n",
       "      <td>Solam Susent</td>\n",
       "      <td>False</td>\n",
       "    </tr>\n",
       "    <tr>\n",
       "      <th>4</th>\n",
       "      <td>0004_01</td>\n",
       "      <td>Earth</td>\n",
       "      <td>False</td>\n",
       "      <td>F/1/S</td>\n",
       "      <td>TRAPPIST-1e</td>\n",
       "      <td>16.0</td>\n",
       "      <td>False</td>\n",
       "      <td>303.0</td>\n",
       "      <td>70.0</td>\n",
       "      <td>151.0</td>\n",
       "      <td>565.0</td>\n",
       "      <td>2.0</td>\n",
       "      <td>Willy Santantines</td>\n",
       "      <td>True</td>\n",
       "    </tr>\n",
       "  </tbody>\n",
       "</table>\n",
       "</div>"
      ],
      "text/plain": [
       "  PassengerId HomePlanet CryoSleep  Cabin  Destination   Age    VIP  \\\n",
       "0     0001_01     Europa     False  B/0/P  TRAPPIST-1e  39.0  False   \n",
       "1     0002_01      Earth     False  F/0/S  TRAPPIST-1e  24.0  False   \n",
       "2     0003_01     Europa     False  A/0/S  TRAPPIST-1e  58.0   True   \n",
       "3     0003_02     Europa     False  A/0/S  TRAPPIST-1e  33.0  False   \n",
       "4     0004_01      Earth     False  F/1/S  TRAPPIST-1e  16.0  False   \n",
       "\n",
       "   RoomService  FoodCourt  ShoppingMall     Spa  VRDeck               Name  \\\n",
       "0          0.0        0.0           0.0     0.0     0.0    Maham Ofracculy   \n",
       "1        109.0        9.0          25.0   549.0    44.0       Juanna Vines   \n",
       "2         43.0     3576.0           0.0  6715.0    49.0      Altark Susent   \n",
       "3          0.0     1283.0         371.0  3329.0   193.0       Solam Susent   \n",
       "4        303.0       70.0         151.0   565.0     2.0  Willy Santantines   \n",
       "\n",
       "   Transported  \n",
       "0        False  \n",
       "1         True  \n",
       "2        False  \n",
       "3        False  \n",
       "4         True  "
      ]
     },
     "execution_count": 4,
     "metadata": {},
     "output_type": "execute_result"
    }
   ],
   "source": [
    "train_data.head()"
   ]
  },
  {
   "cell_type": "code",
   "execution_count": 5,
   "id": "cf71d0ff",
   "metadata": {
    "execution": {
     "iopub.execute_input": "2023-07-20T21:48:58.315295Z",
     "iopub.status.busy": "2023-07-20T21:48:58.314450Z",
     "iopub.status.idle": "2023-07-20T21:48:58.321274Z",
     "shell.execute_reply": "2023-07-20T21:48:58.320189Z"
    },
    "papermill": {
     "duration": 0.02017,
     "end_time": "2023-07-20T21:48:58.323348",
     "exception": false,
     "start_time": "2023-07-20T21:48:58.303178",
     "status": "completed"
    },
    "tags": []
   },
   "outputs": [
    {
     "name": "stdout",
     "output_type": "stream",
     "text": [
      "Number of rows and columns:\n",
      "(8693, 14)\n",
      "\n",
      "Column names:\n",
      "Index(['PassengerId', 'HomePlanet', 'CryoSleep', 'Cabin', 'Destination', 'Age',\n",
      "       'VIP', 'RoomService', 'FoodCourt', 'ShoppingMall', 'Spa', 'VRDeck',\n",
      "       'Name', 'Transported'],\n",
      "      dtype='object')\n"
     ]
    }
   ],
   "source": [
    "# Getting basic information about the dataset\n",
    "print(\"Number of rows and columns:\")\n",
    "print(train_data.shape)\n",
    "\n",
    "print(\"\\nColumn names:\")\n",
    "print(train_data.columns)"
   ]
  },
  {
   "cell_type": "code",
   "execution_count": 6,
   "id": "e1905271",
   "metadata": {
    "execution": {
     "iopub.execute_input": "2023-07-20T21:48:58.345216Z",
     "iopub.status.busy": "2023-07-20T21:48:58.344481Z",
     "iopub.status.idle": "2023-07-20T21:48:58.377787Z",
     "shell.execute_reply": "2023-07-20T21:48:58.376586Z"
    },
    "papermill": {
     "duration": 0.047256,
     "end_time": "2023-07-20T21:48:58.380247",
     "exception": false,
     "start_time": "2023-07-20T21:48:58.332991",
     "status": "completed"
    },
    "tags": []
   },
   "outputs": [
    {
     "name": "stdout",
     "output_type": "stream",
     "text": [
      "\n",
      "Summary statistics of numerical columns:\n",
      "               Age   RoomService     FoodCourt  ShoppingMall           Spa  \\\n",
      "count  8514.000000   8512.000000   8510.000000   8485.000000   8510.000000   \n",
      "mean     28.827930    224.687617    458.077203    173.729169    311.138778   \n",
      "std      14.489021    666.717663   1611.489240    604.696458   1136.705535   \n",
      "min       0.000000      0.000000      0.000000      0.000000      0.000000   \n",
      "25%      19.000000      0.000000      0.000000      0.000000      0.000000   \n",
      "50%      27.000000      0.000000      0.000000      0.000000      0.000000   \n",
      "75%      38.000000     47.000000     76.000000     27.000000     59.000000   \n",
      "max      79.000000  14327.000000  29813.000000  23492.000000  22408.000000   \n",
      "\n",
      "             VRDeck  \n",
      "count   8505.000000  \n",
      "mean     304.854791  \n",
      "std     1145.717189  \n",
      "min        0.000000  \n",
      "25%        0.000000  \n",
      "50%        0.000000  \n",
      "75%       46.000000  \n",
      "max    24133.000000  \n"
     ]
    }
   ],
   "source": [
    "# Getting summary statistics of the numerical columns\n",
    "print(\"\\nSummary statistics of numerical columns:\")\n",
    "print(train_data.describe())"
   ]
  },
  {
   "cell_type": "code",
   "execution_count": 7,
   "id": "f34c7fa9",
   "metadata": {
    "execution": {
     "iopub.execute_input": "2023-07-20T21:48:58.402392Z",
     "iopub.status.busy": "2023-07-20T21:48:58.401680Z",
     "iopub.status.idle": "2023-07-20T21:48:58.421999Z",
     "shell.execute_reply": "2023-07-20T21:48:58.420503Z"
    },
    "papermill": {
     "duration": 0.034176,
     "end_time": "2023-07-20T21:48:58.424261",
     "exception": false,
     "start_time": "2023-07-20T21:48:58.390085",
     "status": "completed"
    },
    "tags": []
   },
   "outputs": [
    {
     "name": "stdout",
     "output_type": "stream",
     "text": [
      "\n",
      "Number of missing values in each column:\n",
      "CryoSleep       217\n",
      "ShoppingMall    208\n",
      "VIP             203\n",
      "HomePlanet      201\n",
      "Name            200\n",
      "Cabin           199\n",
      "VRDeck          188\n",
      "FoodCourt       183\n",
      "Spa             183\n",
      "Destination     182\n",
      "RoomService     181\n",
      "Age             179\n",
      "PassengerId       0\n",
      "Transported       0\n",
      "dtype: int64\n"
     ]
    }
   ],
   "source": [
    "# Counting the number of missing values in each column\n",
    "print(\"\\nNumber of missing values in each column:\")\n",
    "print(train_data.isnull().sum().sort_values(ascending=False))"
   ]
  },
  {
   "cell_type": "code",
   "execution_count": 8,
   "id": "c28e07ed",
   "metadata": {
    "execution": {
     "iopub.execute_input": "2023-07-20T21:48:58.446604Z",
     "iopub.status.busy": "2023-07-20T21:48:58.445869Z",
     "iopub.status.idle": "2023-07-20T21:48:58.452377Z",
     "shell.execute_reply": "2023-07-20T21:48:58.451212Z"
    },
    "papermill": {
     "duration": 0.020434,
     "end_time": "2023-07-20T21:48:58.454648",
     "exception": false,
     "start_time": "2023-07-20T21:48:58.434214",
     "status": "completed"
    },
    "tags": []
   },
   "outputs": [
    {
     "name": "stdout",
     "output_type": "stream",
     "text": [
      "\n",
      "Data types of each column:\n",
      "PassengerId      object\n",
      "HomePlanet       object\n",
      "CryoSleep        object\n",
      "Cabin            object\n",
      "Destination      object\n",
      "Age             float64\n",
      "VIP              object\n",
      "RoomService     float64\n",
      "FoodCourt       float64\n",
      "ShoppingMall    float64\n",
      "Spa             float64\n",
      "VRDeck          float64\n",
      "Name             object\n",
      "Transported        bool\n",
      "dtype: object\n"
     ]
    }
   ],
   "source": [
    "# Checking the data types of each column\n",
    "print(\"\\nData types of each column:\")\n",
    "print(train_data.dtypes)"
   ]
  },
  {
   "cell_type": "markdown",
   "id": "c274487b",
   "metadata": {
    "papermill": {
     "duration": 0.010125,
     "end_time": "2023-07-20T21:48:58.475305",
     "exception": false,
     "start_time": "2023-07-20T21:48:58.465180",
     "status": "completed"
    },
    "tags": []
   },
   "source": [
    "### bar graph"
   ]
  },
  {
   "cell_type": "code",
   "execution_count": 9,
   "id": "e192e90f",
   "metadata": {
    "execution": {
     "iopub.execute_input": "2023-07-20T21:48:58.497309Z",
     "iopub.status.busy": "2023-07-20T21:48:58.496842Z",
     "iopub.status.idle": "2023-07-20T21:48:58.762335Z",
     "shell.execute_reply": "2023-07-20T21:48:58.761147Z"
    },
    "papermill": {
     "duration": 0.279702,
     "end_time": "2023-07-20T21:48:58.765013",
     "exception": false,
     "start_time": "2023-07-20T21:48:58.485311",
     "status": "completed"
    },
    "tags": []
   },
   "outputs": [
    {
     "data": {
      "image/png": "[encoded data removed]",
      "text/plain": [
       "<Figure size 640x480 with 1 Axes>"
      ]
     },
     "metadata": {},
     "output_type": "display_data"
    }
   ],
   "source": [
    "# Getting the counts of 'Transported' variable\n",
    "plot_df = train_data['Transported'].value_counts()\n",
    "\n",
    "# Creating the bar plot\n",
    "plot_df.plot(kind=\"bar\")\n",
    "\n",
    "# Adding labels and title\n",
    "plt.xlabel(\"Transported\")\n",
    "plt.ylabel(\"Count\")\n",
    "plt.title(\"Transported Passengers - Count\")\n",
    "\n",
    "# Display the plot\n",
    "plt.show()"
   ]
  },
  {
   "cell_type": "markdown",
   "id": "064a449f",
   "metadata": {
    "papermill": {
     "duration": 0.010038,
     "end_time": "2023-07-20T21:48:58.785603",
     "exception": false,
     "start_time": "2023-07-20T21:48:58.775565",
     "status": "completed"
    },
    "tags": []
   },
   "source": [
    "### subplots of numerical data\n"
   ]
  },
  {
   "cell_type": "code",
   "execution_count": 10,
   "id": "47e3cad9",
   "metadata": {
    "execution": {
     "iopub.execute_input": "2023-07-20T21:48:58.808195Z",
     "iopub.status.busy": "2023-07-20T21:48:58.807766Z",
     "iopub.status.idle": "2023-07-20T21:49:00.358732Z",
     "shell.execute_reply": "2023-07-20T21:49:00.357194Z"
    },
    "papermill": {
     "duration": 1.565716,
     "end_time": "2023-07-20T21:49:00.361521",
     "exception": false,
     "start_time": "2023-07-20T21:48:58.795805",
     "status": "completed"
    },
    "tags": []
   },
   "outputs": [
    {
     "data": {
      "image/png": "[encoded data removed]",
      "text/plain": [
       "<Figure size 1000x1000 with 5 Axes>"
      ]
     },
     "metadata": {},
     "output_type": "display_data"
    }
   ],
   "source": [
    "# Creating a 5-row subplot with histograms\n",
    "fig, ax = plt.subplots(5, 1, figsize=(10, 10))\n",
    "plt.subplots_adjust(top=2)\n",
    "\n",
    "# Plotting histograms for each column\n",
    "sns.histplot(train_data['Age'], color='b', bins=50, ax=ax[0])\n",
    "ax[0].set_xlabel(\"Age\")\n",
    "ax[0].set_ylabel(\"Count\")\n",
    "ax[0].set_title(\"Distribution of Age\")\n",
    "\n",
    "sns.histplot(train_data['FoodCourt'], color='b', bins=50, ax=ax[1])\n",
    "ax[1].set_xlabel(\"FoodCourt\")\n",
    "ax[1].set_ylabel(\"Count\")\n",
    "ax[1].set_title(\"Distribution of FoodCourt\")\n",
    "\n",
    "sns.histplot(train_data['ShoppingMall'], color='b', bins=50, ax=ax[2])\n",
    "ax[2].set_xlabel(\"ShoppingMall\")\n",
    "ax[2].set_ylabel(\"Count\")\n",
    "ax[2].set_title(\"Distribution of ShoppingMall\")\n",
    "\n",
    "sns.histplot(train_data['Spa'], color='b', bins=50, ax=ax[3])\n",
    "ax[3].set_xlabel(\"Spa\")\n",
    "ax[3].set_ylabel(\"Count\")\n",
    "ax[3].set_title(\"Distribution of Spa\")\n",
    "\n",
    "sns.histplot(train_data['VRDeck'], color='b', bins=50, ax=ax[4])\n",
    "ax[4].set_xlabel(\"VRDeck\")\n",
    "ax[4].set_ylabel(\"Count\")\n",
    "ax[4].set_title(\"Distribution of VRDeck\")\n",
    "\n",
    "# Adjusting space between subplots\n",
    "plt.subplots_adjust(hspace=0.5)\n",
    "\n",
    "# Display the plot\n",
    "plt.show()"
   ]
  },
  {
   "cell_type": "code",
   "execution_count": 11,
   "id": "0a88f6a2",
   "metadata": {
    "execution": {
     "iopub.execute_input": "2023-07-20T21:49:00.388047Z",
     "iopub.status.busy": "2023-07-20T21:49:00.387548Z",
     "iopub.status.idle": "2023-07-20T21:49:00.403295Z",
     "shell.execute_reply": "2023-07-20T21:49:00.402121Z"
    },
    "papermill": {
     "duration": 0.031979,
     "end_time": "2023-07-20T21:49:00.405651",
     "exception": false,
     "start_time": "2023-07-20T21:49:00.373672",
     "status": "completed"
    },
    "tags": []
   },
   "outputs": [
    {
     "name": "stdout",
     "output_type": "stream",
     "text": [
      "Correlation Matrix:\n",
      "                   Age  RoomService  FoodCourt  ShoppingMall       Spa  \\\n",
      "Age           1.000000     0.068723   0.130421      0.033133  0.123970   \n",
      "RoomService   0.068723     1.000000  -0.015889      0.054480  0.010080   \n",
      "FoodCourt     0.130421    -0.015889   1.000000     -0.014228  0.221891   \n",
      "ShoppingMall  0.033133     0.054480  -0.014228      1.000000  0.013879   \n",
      "Spa           0.123970     0.010080   0.221891      0.013879  1.000000   \n",
      "VRDeck        0.101007    -0.019581   0.227995     -0.007322  0.153821   \n",
      "Transported  -0.075026    -0.244611   0.046566      0.010141 -0.221131   \n",
      "\n",
      "                VRDeck  Transported  \n",
      "Age           0.101007    -0.075026  \n",
      "RoomService  -0.019581    -0.244611  \n",
      "FoodCourt     0.227995     0.046566  \n",
      "ShoppingMall -0.007322     0.010141  \n",
      "Spa           0.153821    -0.221131  \n",
      "VRDeck        1.000000    -0.207075  \n",
      "Transported  -0.207075     1.000000  \n"
     ]
    }
   ],
   "source": [
    "# Perform correlation analysis\n",
    "correlation_matrix = train_data.corr()\n",
    "\n",
    "# Display the correlation matrix\n",
    "print(\"Correlation Matrix:\")\n",
    "print(correlation_matrix)"
   ]
  },
  {
   "cell_type": "code",
   "execution_count": 12,
   "id": "01ae7450",
   "metadata": {
    "execution": {
     "iopub.execute_input": "2023-07-20T21:49:00.433159Z",
     "iopub.status.busy": "2023-07-20T21:49:00.432282Z",
     "iopub.status.idle": "2023-07-20T21:49:00.893117Z",
     "shell.execute_reply": "2023-07-20T21:49:00.891608Z"
    },
    "papermill": {
     "duration": 0.477784,
     "end_time": "2023-07-20T21:49:00.895528",
     "exception": false,
     "start_time": "2023-07-20T21:49:00.417744",
     "status": "completed"
    },
    "tags": []
   },
   "outputs": [
    {
     "data": {
      "image/png": "[encoded data removed]",
      "text/plain": [
       "<Figure size 1000x800 with 2 Axes>"
      ]
     },
     "metadata": {},
     "output_type": "display_data"
    }
   ],
   "source": [
    "plt.figure(figsize=(10, 8))\n",
    "sns.heatmap(correlation_matrix, annot=True, cmap='coolwarm', fmt=\".2f\")\n",
    "plt.title(\"Correlation Heatmap\")\n",
    "plt.show()"
   ]
  },
  {
   "cell_type": "markdown",
   "id": "87aaa5b0",
   "metadata": {
    "papermill": {
     "duration": 0.013119,
     "end_time": "2023-07-20T21:49:00.922582",
     "exception": false,
     "start_time": "2023-07-20T21:49:00.909463",
     "status": "completed"
    },
    "tags": []
   },
   "source": [
    "## 4.Preparing Dataset"
   ]
  },
  {
   "cell_type": "markdown",
   "id": "13018049",
   "metadata": {
    "papermill": {
     "duration": 0.013511,
     "end_time": "2023-07-20T21:49:00.949964",
     "exception": false,
     "start_time": "2023-07-20T21:49:00.936453",
     "status": "completed"
    },
    "tags": []
   },
   "source": [
    "### 4.1. Data Cleaning"
   ]
  },
  {
   "cell_type": "code",
   "execution_count": 13,
   "id": "17bc76ef",
   "metadata": {
    "execution": {
     "iopub.execute_input": "2023-07-20T21:49:00.979746Z",
     "iopub.status.busy": "2023-07-20T21:49:00.979278Z",
     "iopub.status.idle": "2023-07-20T21:49:00.999778Z",
     "shell.execute_reply": "2023-07-20T21:49:00.998591Z"
    },
    "papermill": {
     "duration": 0.038413,
     "end_time": "2023-07-20T21:49:01.002516",
     "exception": false,
     "start_time": "2023-07-20T21:49:00.964103",
     "status": "completed"
    },
    "tags": []
   },
   "outputs": [],
   "source": [
    "# Fill missing values with the median for numerical columns\n",
    "train_data[['VIP', 'CryoSleep', 'FoodCourt', 'ShoppingMall', 'Spa', 'VRDeck']] = train_data[['VIP', 'CryoSleep', 'FoodCourt', 'ShoppingMall', 'Spa', 'VRDeck']].fillna(value=0)\n",
    "\n",
    "train_data['Age'].fillna(train_data['Age'].median(), inplace=True)\n",
    "\n",
    "# Convert categorical variable 'VIP' to numerical (1 for True, 0 for False)\n",
    "train_data['VIP'] = train_data['VIP'].astype(int)\n",
    "\n",
    "# Convert 'CryoSleep' to integer (assuming it contains numerical values in string format)\n",
    "train_data['CryoSleep'] = train_data['CryoSleep'].astype(int)\n",
    "\n",
    "# Convert 'Transported' to integers (True=1, False=0)\n",
    "train_data['Transported'] = train_data['Transported'].astype(int)\n"
   ]
  },
  {
   "cell_type": "markdown",
   "id": "8bfbab0d",
   "metadata": {
    "papermill": {
     "duration": 0.012775,
     "end_time": "2023-07-20T21:49:01.028637",
     "exception": false,
     "start_time": "2023-07-20T21:49:01.015862",
     "status": "completed"
    },
    "tags": []
   },
   "source": [
    "### 4.2. Feature Engineering"
   ]
  },
  {
   "cell_type": "code",
   "execution_count": 14,
   "id": "2f06ddde",
   "metadata": {
    "execution": {
     "iopub.execute_input": "2023-07-20T21:49:01.057110Z",
     "iopub.status.busy": "2023-07-20T21:49:01.056672Z",
     "iopub.status.idle": "2023-07-20T21:49:01.079967Z",
     "shell.execute_reply": "2023-07-20T21:49:01.079082Z"
    },
    "papermill": {
     "duration": 0.040009,
     "end_time": "2023-07-20T21:49:01.082264",
     "exception": false,
     "start_time": "2023-07-20T21:49:01.042255",
     "status": "completed"
    },
    "tags": []
   },
   "outputs": [],
   "source": [
    "# Split 'Cabin' column into 'Deck', 'Cabin_num', and 'Side' columns\n",
    "train_data[['Deck', 'Cabin_num', 'Side']] = train_data['Cabin'].str.split('/', expand=True)\n",
    "\n",
    "# Drop irrelevant columns (e.g., 'PassengerId', 'Name','Cabin')\n",
    "try:\n",
    "    train_data.drop(['PassengerId', 'Name','Cabin'], axis=1, inplace=True)\n",
    "except:\n",
    "    print(\"Field does not exist\")"
   ]
  },
  {
   "cell_type": "code",
   "execution_count": 15,
   "id": "5300f5ae",
   "metadata": {
    "execution": {
     "iopub.execute_input": "2023-07-20T21:49:01.111952Z",
     "iopub.status.busy": "2023-07-20T21:49:01.111163Z",
     "iopub.status.idle": "2023-07-20T21:49:01.132356Z",
     "shell.execute_reply": "2023-07-20T21:49:01.131169Z"
    },
    "papermill": {
     "duration": 0.038286,
     "end_time": "2023-07-20T21:49:01.134568",
     "exception": false,
     "start_time": "2023-07-20T21:49:01.096282",
     "status": "completed"
    },
    "tags": []
   },
   "outputs": [
    {
     "data": {
      "text/html": [
       "<div>\n",
       "<style scoped>\n",
       "    .dataframe tbody tr th:only-of-type {\n",
       "        vertical-align: middle;\n",
       "    }\n",
       "\n",
       "    .dataframe tbody tr th {\n",
       "        vertical-align: top;\n",
       "    }\n",
       "\n",
       "    .dataframe thead th {\n",
       "        text-align: right;\n",
       "    }\n",
       "</style>\n",
       "<table border=\"1\" class=\"dataframe\">\n",
       "  <thead>\n",
       "    <tr style=\"text-align: right;\">\n",
       "      <th></th>\n",
       "      <th>HomePlanet</th>\n",
       "      <th>CryoSleep</th>\n",
       "      <th>Destination</th>\n",
       "      <th>Age</th>\n",
       "      <th>VIP</th>\n",
       "      <th>RoomService</th>\n",
       "      <th>FoodCourt</th>\n",
       "      <th>ShoppingMall</th>\n",
       "      <th>Spa</th>\n",
       "      <th>VRDeck</th>\n",
       "      <th>Transported</th>\n",
       "      <th>Deck</th>\n",
       "      <th>Cabin_num</th>\n",
       "      <th>Side</th>\n",
       "    </tr>\n",
       "  </thead>\n",
       "  <tbody>\n",
       "    <tr>\n",
       "      <th>0</th>\n",
       "      <td>Europa</td>\n",
       "      <td>0</td>\n",
       "      <td>TRAPPIST-1e</td>\n",
       "      <td>39.0</td>\n",
       "      <td>0</td>\n",
       "      <td>0.0</td>\n",
       "      <td>0.0</td>\n",
       "      <td>0.0</td>\n",
       "      <td>0.0</td>\n",
       "      <td>0.0</td>\n",
       "      <td>0</td>\n",
       "      <td>B</td>\n",
       "      <td>0</td>\n",
       "      <td>P</td>\n",
       "    </tr>\n",
       "    <tr>\n",
       "      <th>1</th>\n",
       "      <td>Earth</td>\n",
       "      <td>0</td>\n",
       "      <td>TRAPPIST-1e</td>\n",
       "      <td>24.0</td>\n",
       "      <td>0</td>\n",
       "      <td>109.0</td>\n",
       "      <td>9.0</td>\n",
       "      <td>25.0</td>\n",
       "      <td>549.0</td>\n",
       "      <td>44.0</td>\n",
       "      <td>1</td>\n",
       "      <td>F</td>\n",
       "      <td>0</td>\n",
       "      <td>S</td>\n",
       "    </tr>\n",
       "    <tr>\n",
       "      <th>2</th>\n",
       "      <td>Europa</td>\n",
       "      <td>0</td>\n",
       "      <td>TRAPPIST-1e</td>\n",
       "      <td>58.0</td>\n",
       "      <td>1</td>\n",
       "      <td>43.0</td>\n",
       "      <td>3576.0</td>\n",
       "      <td>0.0</td>\n",
       "      <td>6715.0</td>\n",
       "      <td>49.0</td>\n",
       "      <td>0</td>\n",
       "      <td>A</td>\n",
       "      <td>0</td>\n",
       "      <td>S</td>\n",
       "    </tr>\n",
       "    <tr>\n",
       "      <th>3</th>\n",
       "      <td>Europa</td>\n",
       "      <td>0</td>\n",
       "      <td>TRAPPIST-1e</td>\n",
       "      <td>33.0</td>\n",
       "      <td>0</td>\n",
       "      <td>0.0</td>\n",
       "      <td>1283.0</td>\n",
       "      <td>371.0</td>\n",
       "      <td>3329.0</td>\n",
       "      <td>193.0</td>\n",
       "      <td>0</td>\n",
       "      <td>A</td>\n",
       "      <td>0</td>\n",
       "      <td>S</td>\n",
       "    </tr>\n",
       "    <tr>\n",
       "      <th>4</th>\n",
       "      <td>Earth</td>\n",
       "      <td>0</td>\n",
       "      <td>TRAPPIST-1e</td>\n",
       "      <td>16.0</td>\n",
       "      <td>0</td>\n",
       "      <td>303.0</td>\n",
       "      <td>70.0</td>\n",
       "      <td>151.0</td>\n",
       "      <td>565.0</td>\n",
       "      <td>2.0</td>\n",
       "      <td>1</td>\n",
       "      <td>F</td>\n",
       "      <td>1</td>\n",
       "      <td>S</td>\n",
       "    </tr>\n",
       "  </tbody>\n",
       "</table>\n",
       "</div>"
      ],
      "text/plain": [
       "  HomePlanet  CryoSleep  Destination   Age  VIP  RoomService  FoodCourt  \\\n",
       "0     Europa          0  TRAPPIST-1e  39.0    0          0.0        0.0   \n",
       "1      Earth          0  TRAPPIST-1e  24.0    0        109.0        9.0   \n",
       "2     Europa          0  TRAPPIST-1e  58.0    1         43.0     3576.0   \n",
       "3     Europa          0  TRAPPIST-1e  33.0    0          0.0     1283.0   \n",
       "4      Earth          0  TRAPPIST-1e  16.0    0        303.0       70.0   \n",
       "\n",
       "   ShoppingMall     Spa  VRDeck  Transported Deck Cabin_num Side  \n",
       "0           0.0     0.0     0.0            0    B         0    P  \n",
       "1          25.0   549.0    44.0            1    F         0    S  \n",
       "2           0.0  6715.0    49.0            0    A         0    S  \n",
       "3         371.0  3329.0   193.0            0    A         0    S  \n",
       "4         151.0   565.0     2.0            1    F         1    S  "
      ]
     },
     "execution_count": 15,
     "metadata": {},
     "output_type": "execute_result"
    }
   ],
   "source": [
    "train_data.head()"
   ]
  },
  {
   "cell_type": "code",
   "execution_count": 16,
   "id": "da850a51",
   "metadata": {
    "execution": {
     "iopub.execute_input": "2023-07-20T21:49:01.163937Z",
     "iopub.status.busy": "2023-07-20T21:49:01.163458Z",
     "iopub.status.idle": "2023-07-20T21:49:01.181109Z",
     "shell.execute_reply": "2023-07-20T21:49:01.180177Z"
    },
    "papermill": {
     "duration": 0.034826,
     "end_time": "2023-07-20T21:49:01.183115",
     "exception": false,
     "start_time": "2023-07-20T21:49:01.148289",
     "status": "completed"
    },
    "tags": []
   },
   "outputs": [
    {
     "data": {
      "text/plain": [
       "HomePlanet      201\n",
       "Deck            199\n",
       "Cabin_num       199\n",
       "Side            199\n",
       "Destination     182\n",
       "RoomService     181\n",
       "CryoSleep         0\n",
       "Age               0\n",
       "VIP               0\n",
       "FoodCourt         0\n",
       "ShoppingMall      0\n",
       "Spa               0\n",
       "VRDeck            0\n",
       "Transported       0\n",
       "dtype: int64"
      ]
     },
     "execution_count": 16,
     "metadata": {},
     "output_type": "execute_result"
    }
   ],
   "source": [
    "train_data.isnull().sum().sort_values(ascending=False)"
   ]
  },
  {
   "cell_type": "markdown",
   "id": "56d0030b",
   "metadata": {
    "papermill": {
     "duration": 0.013228,
     "end_time": "2023-07-20T21:49:01.210058",
     "exception": false,
     "start_time": "2023-07-20T21:49:01.196830",
     "status": "completed"
    },
    "tags": []
   },
   "source": [
    "### 4.3 Splitting the Dataset"
   ]
  },
  {
   "cell_type": "code",
   "execution_count": 17,
   "id": "f60f296c",
   "metadata": {
    "execution": {
     "iopub.execute_input": "2023-07-20T21:49:01.239861Z",
     "iopub.status.busy": "2023-07-20T21:49:01.239371Z",
     "iopub.status.idle": "2023-07-20T21:49:01.245161Z",
     "shell.execute_reply": "2023-07-20T21:49:01.243926Z"
    },
    "papermill": {
     "duration": 0.023091,
     "end_time": "2023-07-20T21:49:01.247401",
     "exception": false,
     "start_time": "2023-07-20T21:49:01.224310",
     "status": "completed"
    },
    "tags": []
   },
   "outputs": [],
   "source": [
    "def split_dataset(train_data, test_ratio=0.20):\n",
    "    test_indices = np.random.rand(len(train_data)) < test_ratio\n",
    "    return train_data[~test_indices], train_data[test_indices]"
   ]
  },
  {
   "cell_type": "code",
   "execution_count": 18,
   "id": "77d717a0",
   "metadata": {
    "execution": {
     "iopub.execute_input": "2023-07-20T21:49:01.276737Z",
     "iopub.status.busy": "2023-07-20T21:49:01.276268Z",
     "iopub.status.idle": "2023-07-20T21:49:01.286679Z",
     "shell.execute_reply": "2023-07-20T21:49:01.285316Z"
    },
    "papermill": {
     "duration": 0.027958,
     "end_time": "2023-07-20T21:49:01.288974",
     "exception": false,
     "start_time": "2023-07-20T21:49:01.261016",
     "status": "completed"
    },
    "tags": []
   },
   "outputs": [
    {
     "name": "stdout",
     "output_type": "stream",
     "text": [
      "6927 examples in training, 1766 examples in testing.\n"
     ]
    }
   ],
   "source": [
    "train_data, valid_data = split_dataset(train_data)\n",
    "print(\"{} examples in training, {} examples in testing.\".format(len(train_data), len(valid_data)))"
   ]
  },
  {
   "cell_type": "code",
   "execution_count": 19,
   "id": "a21ddb69",
   "metadata": {
    "execution": {
     "iopub.execute_input": "2023-07-20T21:49:01.319542Z",
     "iopub.status.busy": "2023-07-20T21:49:01.319065Z",
     "iopub.status.idle": "2023-07-20T21:49:01.484594Z",
     "shell.execute_reply": "2023-07-20T21:49:01.483466Z"
    },
    "papermill": {
     "duration": 0.184071,
     "end_time": "2023-07-20T21:49:01.487384",
     "exception": false,
     "start_time": "2023-07-20T21:49:01.303313",
     "status": "completed"
    },
    "tags": []
   },
   "outputs": [],
   "source": [
    "# Convert the pandas DataFrames to TensorFlow datasets\n",
    "label = \"Transported\"\n",
    "train_ds = tfdf.keras.pd_dataframe_to_tf_dataset(train_data, label=label)\n",
    "valid_ds = tfdf.keras.pd_dataframe_to_tf_dataset(valid_data, label=label)"
   ]
  },
  {
   "cell_type": "markdown",
   "id": "e90a99b1",
   "metadata": {
    "papermill": {
     "duration": 0.013061,
     "end_time": "2023-07-20T21:49:01.514031",
     "exception": false,
     "start_time": "2023-07-20T21:49:01.500970",
     "status": "completed"
    },
    "tags": []
   },
   "source": [
    "## 5. Training the Model\n",
    "### I have chosen **Random Forest**"
   ]
  },
  {
   "cell_type": "code",
   "execution_count": 20,
   "id": "05eb2a5d",
   "metadata": {
    "execution": {
     "iopub.execute_input": "2023-07-20T21:49:01.543389Z",
     "iopub.status.busy": "2023-07-20T21:49:01.542903Z",
     "iopub.status.idle": "2023-07-20T21:49:01.586659Z",
     "shell.execute_reply": "2023-07-20T21:49:01.585337Z"
    },
    "papermill": {
     "duration": 0.062115,
     "end_time": "2023-07-20T21:49:01.589458",
     "exception": false,
     "start_time": "2023-07-20T21:49:01.527343",
     "status": "completed"
    },
    "tags": []
   },
   "outputs": [
    {
     "name": "stdout",
     "output_type": "stream",
     "text": [
      "Use /tmp/tmpg7dxreag as temporary training directory\n"
     ]
    }
   ],
   "source": [
    "# Creating the Random Forest model with the specified configuration\n",
    "rf = tfdf.keras.RandomForestModel()"
   ]
  },
  {
   "cell_type": "code",
   "execution_count": 21,
   "id": "ac6ac227",
   "metadata": {
    "execution": {
     "iopub.execute_input": "2023-07-20T21:49:01.620052Z",
     "iopub.status.busy": "2023-07-20T21:49:01.619604Z",
     "iopub.status.idle": "2023-07-20T21:49:01.648468Z",
     "shell.execute_reply": "2023-07-20T21:49:01.647221Z"
    },
    "papermill": {
     "duration": 0.047796,
     "end_time": "2023-07-20T21:49:01.651221",
     "exception": false,
     "start_time": "2023-07-20T21:49:01.603425",
     "status": "completed"
    },
    "tags": []
   },
   "outputs": [],
   "source": [
    "rf.compile(metrics=[\"accuracy\"])"
   ]
  },
  {
   "cell_type": "code",
   "execution_count": 22,
   "id": "90db821d",
   "metadata": {
    "execution": {
     "iopub.execute_input": "2023-07-20T21:49:01.681137Z",
     "iopub.status.busy": "2023-07-20T21:49:01.680710Z",
     "iopub.status.idle": "2023-07-20T21:50:29.226119Z",
     "shell.execute_reply": "2023-07-20T21:50:29.225168Z"
    },
    "papermill": {
     "duration": 87.563274,
     "end_time": "2023-07-20T21:50:29.228408",
     "exception": false,
     "start_time": "2023-07-20T21:49:01.665134",
     "status": "completed"
    },
    "tags": []
   },
   "outputs": [
    {
     "name": "stdout",
     "output_type": "stream",
     "text": [
      "Reading training dataset...\n",
      "Training dataset read in 0:00:05.678481. Found 6927 examples.\n",
      "Training model...\n"
     ]
    },
    {
     "name": "stderr",
     "output_type": "stream",
     "text": [
      "[INFO 23-07-20 21:50:04.8850 UTC kernel.cc:1243] Loading model from path /tmp/tmpg7dxreag/model/ with prefix 909db84cb131445c\n"
     ]
    },
    {
     "name": "stdout",
     "output_type": "stream",
     "text": [
      "Model trained in 0:00:58.599047\n",
      "Compiling model...\n"
     ]
    },
    {
     "name": "stderr",
     "output_type": "stream",
     "text": [
      "[INFO 23-07-20 21:50:05.8733 UTC decision_forest.cc:660] Model loaded with 300 root(s), 232104 node(s), and 13 input feature(s).\n",
      "[INFO 23-07-20 21:50:05.8733 UTC abstract_model.cc:1311] Engine \"RandomForestGeneric\" built\n",
      "[INFO 23-07-20 21:50:05.8734 UTC kernel.cc:1075] Use fast generic engine\n"
     ]
    },
    {
     "name": "stdout",
     "output_type": "stream",
     "text": [
      "WARNING: AutoGraph could not transform <function simple_ml_inference_op_with_handle at 0x7d9f1f682320> and will run it as-is.\n",
      "Please report this to the TensorFlow team. When filing the bug, set the verbosity to 10 (on Linux, `export AUTOGRAPH_VERBOSITY=10`) and attach the full output.\n",
      "Cause: could not get source code\n",
      "To silence this warning, decorate the function with @tf.autograph.experimental.do_not_convert\n",
      "Model compiled.\n"
     ]
    },
    {
     "data": {
      "text/plain": [
       "<keras.callbacks.History at 0x7d9f16a785b0>"
      ]
     },
     "execution_count": 22,
     "metadata": {},
     "output_type": "execute_result"
    }
   ],
   "source": [
    "rf.fit(x=train_ds)"
   ]
  },
  {
   "cell_type": "markdown",
   "id": "051b4621",
   "metadata": {
    "papermill": {
     "duration": 0.014257,
     "end_time": "2023-07-20T21:50:29.257148",
     "exception": false,
     "start_time": "2023-07-20T21:50:29.242891",
     "status": "completed"
    },
    "tags": []
   },
   "source": [
    "## 6.Evaluation/Validation(OOB)"
   ]
  },
  {
   "cell_type": "code",
   "execution_count": 23,
   "id": "03ff9200",
   "metadata": {
    "execution": {
     "iopub.execute_input": "2023-07-20T21:50:29.289975Z",
     "iopub.status.busy": "2023-07-20T21:50:29.289507Z",
     "iopub.status.idle": "2023-07-20T21:50:29.681319Z",
     "shell.execute_reply": "2023-07-20T21:50:29.680040Z"
    },
    "papermill": {
     "duration": 0.410923,
     "end_time": "2023-07-20T21:50:29.684005",
     "exception": false,
     "start_time": "2023-07-20T21:50:29.273082",
     "status": "completed"
    },
    "tags": []
   },
   "outputs": [
    {
     "data": {
      "image/png": "[encoded data removed]",
      "text/plain": [
       "<Figure size 800x600 with 1 Axes>"
      ]
     },
     "metadata": {},
     "output_type": "display_data"
    }
   ],
   "source": [
    "# Access the training logs to get the number of trees and OOB accuracy during training\n",
    "logs = rf.make_inspector().training_logs()\n",
    "\n",
    "# Extract the number of trees and OOB accuracy from the logs\n",
    "num_trees = [log.num_trees for log in logs]\n",
    "oob_accuracy = [log.evaluation.accuracy for log in logs]\n",
    "\n",
    "# Find the index of the maximum OOB accuracy and the corresponding number of trees\n",
    "best_accuracy_index = oob_accuracy.index(max(oob_accuracy))\n",
    "best_accuracy = oob_accuracy[best_accuracy_index]\n",
    "best_num_trees = num_trees[best_accuracy_index]\n",
    "\n",
    "# Create the plot\n",
    "plt.figure(figsize=(8, 6))\n",
    "plt.plot(num_trees, oob_accuracy, marker='o', linestyle='-', color='b')\n",
    "plt.axhline(y=best_accuracy, color='r', linestyle='--', label=f\"Best OOB Accuracy: {best_accuracy:.2f}%\")\n",
    "plt.axvline(x=best_num_trees, color='r', linestyle='--')\n",
    "plt.xlabel(\"Number of trees\")\n",
    "plt.ylabel(\"Accuracy (Out-of-Bag)\")\n",
    "plt.title(\"Out-of-Bag Accuracy vs. Number of Trees\")\n",
    "plt.legend()\n",
    "plt.grid(True)\n",
    "plt.tight_layout()\n",
    "plt.show()"
   ]
  },
  {
   "cell_type": "code",
   "execution_count": 25,
   "id": "cee54fc9",
   "metadata": {
    "execution": {
     "iopub.execute_input": "2023-07-20T21:50:29.985909Z",
     "iopub.status.busy": "2023-07-20T21:50:29.985428Z",
     "iopub.status.idle": "2023-07-20T21:50:30.592741Z",
     "shell.execute_reply": "2023-07-20T21:50:30.591623Z"
    },
    "papermill": {
     "duration": 0.627107,
     "end_time": "2023-07-20T21:50:30.595008",
     "exception": false,
     "start_time": "2023-07-20T21:50:29.967901",
     "status": "completed"
    },
    "tags": []
   },
   "outputs": [
    {
     "name": "stdout",
     "output_type": "stream",
     "text": [
      "2/2 [==============================] - 1s 67ms/step - loss: 0.0000e+00 - accuracy: 0.7990\n",
      "Evaluation Metrics:\n",
      "loss: 0.0000\n",
      "accuracy: 0.7990\n",
      "\n",
      "Model Information:\n",
      "Number of trees in the Random Forest: 300\n"
     ]
    }
   ],
   "source": [
    "# Create an inspector to access the model's information\n",
    "inspector = rf.make_inspector()\n",
    "\n",
    "# Get evaluation metrics on the validation dataset\n",
    "evaluation = rf.evaluate(valid_ds, return_dict=True)\n",
    "\n",
    "# Print evaluation metrics\n",
    "print(\"Evaluation Metrics:\")\n",
    "for name, value in evaluation.items():\n",
    "    print(f\"{name}: {value:.4f}\")\n",
    "\n",
    "# Print additional model information\n",
    "print(\"\\nModel Information:\")\n",
    "print(f\"Number of trees in the Random Forest: {inspector.num_trees()}\")"
   ]
  },
  {
   "cell_type": "code",
   "execution_count": 26,
   "id": "0e4d9efc",
   "metadata": {
    "execution": {
     "iopub.execute_input": "2023-07-20T21:50:30.630231Z",
     "iopub.status.busy": "2023-07-20T21:50:30.629793Z",
     "iopub.status.idle": "2023-07-20T21:50:30.636734Z",
     "shell.execute_reply": "2023-07-20T21:50:30.635553Z"
    },
    "papermill": {
     "duration": 0.028524,
     "end_time": "2023-07-20T21:50:30.639353",
     "exception": false,
     "start_time": "2023-07-20T21:50:30.610829",
     "status": "completed"
    },
    "tags": []
   },
   "outputs": [
    {
     "name": "stdout",
     "output_type": "stream",
     "text": [
      "Available Variable Importances:\n",
      "\tSUM_SCORE\n",
      "\tNUM_AS_ROOT\n",
      "\tINV_MEAN_MIN_DEPTH\n",
      "\tNUM_NODES\n"
     ]
    }
   ],
   "source": [
    "# Get the variable importances\n",
    "variable_importances = inspector.variable_importances()# Print available variable importances\n",
    "print(\"Available Variable Importances:\")\n",
    "for importance in variable_importances.keys():\n",
    "    print(f\"\\t{importance}\")"
   ]
  },
  {
   "cell_type": "code",
   "execution_count": 27,
   "id": "a6a177e3",
   "metadata": {
    "execution": {
     "iopub.execute_input": "2023-07-20T21:50:30.673893Z",
     "iopub.status.busy": "2023-07-20T21:50:30.673468Z",
     "iopub.status.idle": "2023-07-20T21:50:30.681793Z",
     "shell.execute_reply": "2023-07-20T21:50:30.680718Z"
    },
    "papermill": {
     "duration": 0.028269,
     "end_time": "2023-07-20T21:50:30.683934",
     "exception": false,
     "start_time": "2023-07-20T21:50:30.655665",
     "status": "completed"
    },
    "tags": []
   },
   "outputs": [
    {
     "data": {
      "text/plain": [
       "[(\"Spa\" (1; #10), 0.20411717008408473),\n",
       " (\"CryoSleep\" (1; #2), 0.1903381491889023),\n",
       " (\"RoomService\" (1; #7), 0.17736001277658472),\n",
       " (\"Cabin_num\" (4; #1), 0.1527884560119518),\n",
       " (\"VRDeck\" (1; #12), 0.1512813181654234),\n",
       " (\"FoodCourt\" (1; #5), 0.14552616125566653),\n",
       " (\"ShoppingMall\" (1; #8), 0.12369647479734937),\n",
       " (\"Deck\" (4; #3), 0.11789897742148595),\n",
       " (\"Age\" (1; #0), 0.11302307889965828),\n",
       " (\"HomePlanet\" (4; #6), 0.11269254998106133),\n",
       " (\"Side\" (4; #9), 0.09995022248257111),\n",
       " (\"Destination\" (4; #4), 0.09215811787392347),\n",
       " (\"VIP\" (1; #11), 0.08344042874442602)]"
      ]
     },
     "execution_count": 27,
     "metadata": {},
     "output_type": "execute_result"
    }
   ],
   "source": [
    "inspector.variable_importances()[\"INV_MEAN_MIN_DEPTH\"]"
   ]
  },
  {
   "cell_type": "code",
   "execution_count": 28,
   "id": "5d07c0e3",
   "metadata": {
    "execution": {
     "iopub.execute_input": "2023-07-20T21:50:30.718677Z",
     "iopub.status.busy": "2023-07-20T21:50:30.717787Z",
     "iopub.status.idle": "2023-07-20T21:50:30.726862Z",
     "shell.execute_reply": "2023-07-20T21:50:30.725709Z"
    },
    "papermill": {
     "duration": 0.028985,
     "end_time": "2023-07-20T21:50:30.729056",
     "exception": false,
     "start_time": "2023-07-20T21:50:30.700071",
     "status": "completed"
    },
    "tags": []
   },
   "outputs": [
    {
     "data": {
      "text/plain": [
       "[(\"Cabin_num\" (4; #1), 38129.0),\n",
       " (\"Age\" (1; #0), 21363.0),\n",
       " (\"FoodCourt\" (1; #5), 8385.0),\n",
       " (\"Spa\" (1; #10), 8074.0),\n",
       " (\"VRDeck\" (1; #12), 8071.0),\n",
       " (\"ShoppingMall\" (1; #8), 7850.0),\n",
       " (\"RoomService\" (1; #7), 7361.0),\n",
       " (\"Deck\" (4; #3), 5902.0),\n",
       " (\"Destination\" (4; #4), 4136.0),\n",
       " (\"Side\" (4; #9), 3715.0),\n",
       " (\"HomePlanet\" (4; #6), 2149.0),\n",
       " (\"CryoSleep\" (1; #2), 697.0),\n",
       " (\"VIP\" (1; #11), 70.0)]"
      ]
     },
     "execution_count": 28,
     "metadata": {},
     "output_type": "execute_result"
    }
   ],
   "source": [
    "inspector.variable_importances()[\"NUM_NODES\"]"
   ]
  },
  {
   "cell_type": "code",
   "execution_count": 29,
   "id": "951033cb",
   "metadata": {
    "execution": {
     "iopub.execute_input": "2023-07-20T21:50:30.764563Z",
     "iopub.status.busy": "2023-07-20T21:50:30.763802Z",
     "iopub.status.idle": "2023-07-20T21:50:30.770666Z",
     "shell.execute_reply": "2023-07-20T21:50:30.769884Z"
    },
    "papermill": {
     "duration": 0.026554,
     "end_time": "2023-07-20T21:50:30.772607",
     "exception": false,
     "start_time": "2023-07-20T21:50:30.746053",
     "status": "completed"
    },
    "tags": []
   },
   "outputs": [
    {
     "data": {
      "text/plain": [
       "[(\"CryoSleep\" (1; #2), 115.0),\n",
       " (\"Spa\" (1; #10), 69.0),\n",
       " (\"RoomService\" (1; #7), 60.0),\n",
       " (\"VRDeck\" (1; #12), 29.0),\n",
       " (\"ShoppingMall\" (1; #8), 14.0),\n",
       " (\"FoodCourt\" (1; #5), 11.0),\n",
       " (\"Deck\" (4; #3), 1.0),\n",
       " (\"HomePlanet\" (4; #6), 1.0)]"
      ]
     },
     "execution_count": 29,
     "metadata": {},
     "output_type": "execute_result"
    }
   ],
   "source": [
    "inspector.variable_importances()[\"NUM_AS_ROOT\"]"
   ]
  },
  {
   "cell_type": "code",
   "execution_count": 30,
   "id": "31e64b4e",
   "metadata": {
    "execution": {
     "iopub.execute_input": "2023-07-20T21:50:30.807838Z",
     "iopub.status.busy": "2023-07-20T21:50:30.807101Z",
     "iopub.status.idle": "2023-07-20T21:50:30.814021Z",
     "shell.execute_reply": "2023-07-20T21:50:30.812990Z"
    },
    "papermill": {
     "duration": 0.027039,
     "end_time": "2023-07-20T21:50:30.815995",
     "exception": false,
     "start_time": "2023-07-20T21:50:30.788956",
     "status": "completed"
    },
    "tags": []
   },
   "outputs": [
    {
     "data": {
      "text/plain": [
       "[(\"Cabin_num\" (4; #1), 257369.25175620307),\n",
       " (\"CryoSleep\" (1; #2), 133096.80898279836),\n",
       " (\"Spa\" (1; #10), 115789.95827861899),\n",
       " (\"RoomService\" (1; #7), 99943.98982133815),\n",
       " (\"VRDeck\" (1; #12), 98925.14326700132),\n",
       " (\"Deck\" (4; #3), 82326.60612247651),\n",
       " (\"FoodCourt\" (1; #5), 76039.98021792469),\n",
       " (\"Age\" (1; #0), 75846.37733762963),\n",
       " (\"HomePlanet\" (4; #6), 52742.84725587984),\n",
       " (\"ShoppingMall\" (1; #8), 51906.372083190945),\n",
       " (\"Side\" (4; #9), 17029.818100297096),\n",
       " (\"Destination\" (4; #4), 15885.08108273003),\n",
       " (\"VIP\" (1; #11), 282.1045443993062)]"
      ]
     },
     "execution_count": 30,
     "metadata": {},
     "output_type": "execute_result"
    }
   ],
   "source": [
    "inspector.variable_importances()[\"SUM_SCORE\"]"
   ]
  },
  {
   "cell_type": "markdown",
   "id": "8d7eb7e3",
   "metadata": {
    "papermill": {
     "duration": 0.015932,
     "end_time": "2023-07-20T21:50:30.848128",
     "exception": false,
     "start_time": "2023-07-20T21:50:30.832196",
     "status": "completed"
    },
    "tags": []
   },
   "source": [
    "## 7.Testing"
   ]
  },
  {
   "cell_type": "code",
   "execution_count": 31,
   "id": "0974b45b",
   "metadata": {
    "execution": {
     "iopub.execute_input": "2023-07-20T21:50:30.882313Z",
     "iopub.status.busy": "2023-07-20T21:50:30.881861Z",
     "iopub.status.idle": "2023-07-20T21:50:31.471639Z",
     "shell.execute_reply": "2023-07-20T21:50:31.470388Z"
    },
    "papermill": {
     "duration": 0.609559,
     "end_time": "2023-07-20T21:50:31.473886",
     "exception": false,
     "start_time": "2023-07-20T21:50:30.864327",
     "status": "completed"
    },
    "tags": []
   },
   "outputs": [
    {
     "name": "stdout",
     "output_type": "stream",
     "text": [
      "5/5 [==============================] - 0s 63ms/step\n"
     ]
    },
    {
     "data": {
      "text/html": [
       "<div>\n",
       "<style scoped>\n",
       "    .dataframe tbody tr th:only-of-type {\n",
       "        vertical-align: middle;\n",
       "    }\n",
       "\n",
       "    .dataframe tbody tr th {\n",
       "        vertical-align: top;\n",
       "    }\n",
       "\n",
       "    .dataframe thead th {\n",
       "        text-align: right;\n",
       "    }\n",
       "</style>\n",
       "<table border=\"1\" class=\"dataframe\">\n",
       "  <thead>\n",
       "    <tr style=\"text-align: right;\">\n",
       "      <th></th>\n",
       "      <th>PassengerId</th>\n",
       "      <th>Transported</th>\n",
       "    </tr>\n",
       "  </thead>\n",
       "  <tbody>\n",
       "    <tr>\n",
       "      <th>0</th>\n",
       "      <td>0013_01</td>\n",
       "      <td>True</td>\n",
       "    </tr>\n",
       "    <tr>\n",
       "      <th>1</th>\n",
       "      <td>0018_01</td>\n",
       "      <td>False</td>\n",
       "    </tr>\n",
       "    <tr>\n",
       "      <th>2</th>\n",
       "      <td>0019_01</td>\n",
       "      <td>True</td>\n",
       "    </tr>\n",
       "    <tr>\n",
       "      <th>3</th>\n",
       "      <td>0021_01</td>\n",
       "      <td>True</td>\n",
       "    </tr>\n",
       "    <tr>\n",
       "      <th>4</th>\n",
       "      <td>0023_01</td>\n",
       "      <td>False</td>\n",
       "    </tr>\n",
       "  </tbody>\n",
       "</table>\n",
       "</div>"
      ],
      "text/plain": [
       "  PassengerId  Transported\n",
       "0     0013_01         True\n",
       "1     0018_01        False\n",
       "2     0019_01         True\n",
       "3     0021_01         True\n",
       "4     0023_01        False"
      ]
     },
     "execution_count": 31,
     "metadata": {},
     "output_type": "execute_result"
    }
   ],
   "source": [
    "import pandas as pd\n",
    "import tensorflow_decision_forests as tfdf\n",
    "\n",
    "# Load the test dataset\n",
    "test_data = pd.read_csv('/kaggle/input/spaceship-titanic/test.csv')\n",
    "passenger_ids = test_data.PassengerId\n",
    "\n",
    "# Replace NaN values with zero\n",
    "test_data[['VIP', 'CryoSleep']] = test_data[['VIP', 'CryoSleep']].fillna(value=0)\n",
    "\n",
    "# Creating New Features - Deck, Cabin_num, and Side from the column Cabin and remove Cabin\n",
    "test_data[[\"Deck\", \"Cabin_num\", \"Side\"]] = test_data[\"Cabin\"].str.split(\"/\", expand=True)\n",
    "test_data = test_data.drop('Cabin', axis=1)\n",
    "\n",
    "# Convert boolean to 1's and 0's\n",
    "test_data['VIP'] = test_data['VIP'].astype(int)\n",
    "test_data['CryoSleep'] = test_data['CryoSleep'].astype(int)\n",
    "\n",
    "# Convert pd dataframe to tf dataset\n",
    "test_ds = tfdf.keras.pd_dataframe_to_tf_dataset(test_data)\n",
    "\n",
    "# Get the predictions for test data\n",
    "predictions = rf.predict(test_ds)\n",
    "n_predictions = (predictions > 0.5).astype(bool)\n",
    "output = pd.DataFrame({'PassengerId': passenger_ids,\n",
    "                       'Transported': n_predictions.squeeze()})\n",
    "\n",
    "output.head()\n"
   ]
  },
  {
   "cell_type": "code",
   "execution_count": 32,
   "id": "8b8a9411",
   "metadata": {
    "execution": {
     "iopub.execute_input": "2023-07-20T21:50:31.510222Z",
     "iopub.status.busy": "2023-07-20T21:50:31.509790Z",
     "iopub.status.idle": "2023-07-20T21:50:31.538884Z",
     "shell.execute_reply": "2023-07-20T21:50:31.537768Z"
    },
    "papermill": {
     "duration": 0.049963,
     "end_time": "2023-07-20T21:50:31.541265",
     "exception": false,
     "start_time": "2023-07-20T21:50:31.491302",
     "status": "completed"
    },
    "tags": []
   },
   "outputs": [
    {
     "data": {
      "text/html": [
       "<div>\n",
       "<style scoped>\n",
       "    .dataframe tbody tr th:only-of-type {\n",
       "        vertical-align: middle;\n",
       "    }\n",
       "\n",
       "    .dataframe tbody tr th {\n",
       "        vertical-align: top;\n",
       "    }\n",
       "\n",
       "    .dataframe thead th {\n",
       "        text-align: right;\n",
       "    }\n",
       "</style>\n",
       "<table border=\"1\" class=\"dataframe\">\n",
       "  <thead>\n",
       "    <tr style=\"text-align: right;\">\n",
       "      <th></th>\n",
       "      <th>PassengerId</th>\n",
       "      <th>Transported</th>\n",
       "    </tr>\n",
       "  </thead>\n",
       "  <tbody>\n",
       "    <tr>\n",
       "      <th>0</th>\n",
       "      <td>0013_01</td>\n",
       "      <td>True</td>\n",
       "    </tr>\n",
       "    <tr>\n",
       "      <th>1</th>\n",
       "      <td>0018_01</td>\n",
       "      <td>False</td>\n",
       "    </tr>\n",
       "    <tr>\n",
       "      <th>2</th>\n",
       "      <td>0019_01</td>\n",
       "      <td>True</td>\n",
       "    </tr>\n",
       "    <tr>\n",
       "      <th>3</th>\n",
       "      <td>0021_01</td>\n",
       "      <td>True</td>\n",
       "    </tr>\n",
       "    <tr>\n",
       "      <th>4</th>\n",
       "      <td>0023_01</td>\n",
       "      <td>False</td>\n",
       "    </tr>\n",
       "  </tbody>\n",
       "</table>\n",
       "</div>"
      ],
      "text/plain": [
       "  PassengerId  Transported\n",
       "0     0013_01         True\n",
       "1     0018_01        False\n",
       "2     0019_01         True\n",
       "3     0021_01         True\n",
       "4     0023_01        False"
      ]
     },
     "execution_count": 32,
     "metadata": {},
     "output_type": "execute_result"
    }
   ],
   "source": [
    "sample_submission_data = pd.read_csv('./dataset/sample_submission.csv')\n",
    "sample_submission_data['Transported'] = n_predictions\n",
    "sample_submission_data.to_csv('./prediction/metarex21_submission.csv', index=False)\n",
    "sample_submission_data.head()"
   ]
  },
  {
   "cell_type": "markdown",
   "id": "40bd5b4a",
   "metadata": {},
   "source": [
    "## 8. Saving the Model"
   ]
  },
  {
   "cell_type": "markdown",
   "id": "0200097e",
   "metadata": {},
   "source": [
    "rf.save('./model')"
   ]
  }
 ],
 "metadata": {
  "kernelspec": {
   "display_name": "Python 3",
   "language": "python",
   "name": "python3"
  },
  "language_info": {
   "codemirror_mode": {
    "name": "ipython",
    "version": 3
   },
   "file_extension": ".py",
   "mimetype": "text/x-python",
   "name": "python",
   "nbconvert_exporter": "python",
   "pygments_lexer": "ipython3",
   "version": "3.11.4"
  },
  "papermill": {
   "default_parameters": {},
   "duration": 116.616455,
   "end_time": "2023-07-20T21:50:33.686692",
   "environment_variables": {},
   "exception": null,
   "input_path": "__notebook__.ipynb",
   "output_path": "__notebook__.ipynb",
   "parameters": {},
   "start_time": "2023-07-20T21:48:37.070237",
   "version": "2.4.0"
  }
 },
 "nbformat": 4,
 "nbformat_minor": 5
}
